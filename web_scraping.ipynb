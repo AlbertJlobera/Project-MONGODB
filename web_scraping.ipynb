{
 "cells": [
  {
   "cell_type": "code",
   "execution_count": 15,
   "metadata": {},
   "outputs": [],
   "source": [
    "import requests\n",
    "import pandas as pd\n",
    "from bs4 import BeautifulSoup\n",
    "res = requests.get(\"https://www.northeastern.edu/graduate/blog/tech-companies-san-francisco-bay-area/\")"
   ]
  },
  {
   "cell_type": "code",
   "execution_count": 16,
   "metadata": {},
   "outputs": [],
   "source": [
    "res.text\n",
    "soup = BeautifulSoup(res.text)\n"
   ]
  },
  {
   "cell_type": "code",
   "execution_count": 17,
   "metadata": {},
   "outputs": [
    {
     "data": {
      "text/plain": [
       "'5 Top Tech Companies to Work For in the San Francisco Bay Area'"
      ]
     },
     "execution_count": 17,
     "metadata": {},
     "output_type": "execute_result"
    }
   ],
   "source": [
    "soup.title.text"
   ]
  },
  {
   "cell_type": "code",
   "execution_count": 18,
   "metadata": {},
   "outputs": [],
   "source": [
    "tables = soup.find_all(\"h3\")"
   ]
  },
  {
   "cell_type": "code",
   "execution_count": 21,
   "metadata": {},
   "outputs": [],
   "source": [
    "def getcompanies(tables):\n",
    "    return {\n",
    "        'Top 1': tables[0].text,\n",
    "        'Top 2': tables[1].text,\n",
    "        'Top 3':tables[2].text,\n",
    "        'Top 4': tables[3].text,\n",
    "        'Top 5':tables[4].text\n",
    "    }\n",
    "    "
   ]
  },
  {
   "cell_type": "code",
   "execution_count": 24,
   "metadata": {},
   "outputs": [
    {
     "data": {
      "text/plain": [
       "{'Top 1': '1. Salesforce',\n",
       " 'Top 2': '2. NVIDIA',\n",
       " 'Top 3': '3. Adobe',\n",
       " 'Top 4': '4. Atlassian',\n",
       " 'Top 5': '5. Eventbrite'}"
      ]
     },
     "execution_count": 24,
     "metadata": {},
     "output_type": "execute_result"
    }
   ],
   "source": [
    "getcompanies(tables)"
   ]
  },
  {
   "cell_type": "code",
   "execution_count": 7,
   "metadata": {},
   "outputs": [],
   "source": [
    "res = requests.get(\"https://en.wikipedia.org/wiki/List_of_companies_based_in_San_Francisco\")"
   ]
  },
  {
   "cell_type": "code",
   "execution_count": 8,
   "metadata": {},
   "outputs": [],
   "source": [
    "res.text\n",
    "soup = BeautifulSoup(res.text)\n"
   ]
  },
  {
   "cell_type": "code",
   "execution_count": 9,
   "metadata": {},
   "outputs": [
    {
     "data": {
      "text/plain": [
       "'List of companies based in San Francisco - Wikipedia'"
      ]
     },
     "execution_count": 9,
     "metadata": {},
     "output_type": "execute_result"
    }
   ],
   "source": [
    "soup.title.text"
   ]
  },
  {
   "cell_type": "code",
   "execution_count": 10,
   "metadata": {},
   "outputs": [
    {
     "data": {
      "text/plain": [
       "<span class=\"mw-headline\" id=\"Advertising\">Advertising</span>"
      ]
     },
     "execution_count": 10,
     "metadata": {},
     "output_type": "execute_result"
    }
   ],
   "source": [
    "tables = soup.select(\".mw-headline\")\n",
    "tables[1]"
   ]
  },
  {
   "cell_type": "code",
   "execution_count": 11,
   "metadata": {},
   "outputs": [
    {
     "data": {
      "text/plain": [
       "'140 Proof'"
      ]
     },
     "execution_count": 11,
     "metadata": {},
     "output_type": "execute_result"
    }
   ],
   "source": [
    "tables = soup.select(\"li\")\n",
    "tables[34].text"
   ]
  },
  {
   "cell_type": "code",
   "execution_count": 12,
   "metadata": {},
   "outputs": [],
   "source": [
    "name = soup.select(\".mw-headline\")\n",
    "comp = soup.select(\"li\")"
   ]
  },
  {
   "cell_type": "code",
   "execution_count": 13,
   "metadata": {},
   "outputs": [],
   "source": [
    "def scrap():\n",
    "    name = soup.select(\".mw-headline\")\n",
    "    comp = soup.select(\"li\")\n",
    "\n",
    "    return {\n",
    "        name[1].text : [comp[34].text,comp[35].text,comp[36].text,comp[37].text,comp[38].text,comp[39].text],\n",
    "        name[2].text : [comp[40].text,comp[41].text,'-','-','-','-'],\n",
    "        name[3].text : [comp[42].text,comp[43].text,comp[44].text,comp[45].text,comp[46].text,comp[47].text],\n",
    "        name[4].text : [comp[48].text,comp[49].text,comp[50].text,'-','-','-'],\n",
    "        name[5].text : [comp[51].text,'-','-','-','-','-'],\n",
    "        name[6].text : [comp[52].text,comp[53].text,'-','-','-','-']\n",
    "    }"
   ]
  },
  {
   "cell_type": "code",
   "execution_count": 14,
   "metadata": {},
   "outputs": [
    {
     "data": {
      "text/html": [
       "<div>\n",
       "<style scoped>\n",
       "    .dataframe tbody tr th:only-of-type {\n",
       "        vertical-align: middle;\n",
       "    }\n",
       "\n",
       "    .dataframe tbody tr th {\n",
       "        vertical-align: top;\n",
       "    }\n",
       "\n",
       "    .dataframe thead th {\n",
       "        text-align: right;\n",
       "    }\n",
       "</style>\n",
       "<table border=\"1\" class=\"dataframe\">\n",
       "  <thead>\n",
       "    <tr style=\"text-align: right;\">\n",
       "      <th></th>\n",
       "      <th>Advertising</th>\n",
       "      <th>Automotive</th>\n",
       "      <th>Banks</th>\n",
       "      <th>Beverages (alcoholic)</th>\n",
       "      <th>Beverages (non-alcoholic)</th>\n",
       "      <th>Broadcasting and cable TV</th>\n",
       "    </tr>\n",
       "  </thead>\n",
       "  <tbody>\n",
       "    <tr>\n",
       "      <th>0</th>\n",
       "      <td>140 Proof</td>\n",
       "      <td>Traction</td>\n",
       "      <td>Otto (company)</td>\n",
       "      <td>Wells Fargo</td>\n",
       "      <td>Speakeasy Ales and Lagers</td>\n",
       "      <td>Adina World Beat Beverages</td>\n",
       "    </tr>\n",
       "    <tr>\n",
       "      <th>1</th>\n",
       "      <td>AKQA</td>\n",
       "      <td>Cruise Automation</td>\n",
       "      <td>Bank of the Orient</td>\n",
       "      <td>Anchor Brewing Company</td>\n",
       "      <td>-</td>\n",
       "      <td>Northern California Public Broadcasting</td>\n",
       "    </tr>\n",
       "    <tr>\n",
       "      <th>2</th>\n",
       "      <td>Duncan/Channon</td>\n",
       "      <td>-</td>\n",
       "      <td>Bank of the West (BancWest)</td>\n",
       "      <td>SKYY Spirits</td>\n",
       "      <td>-</td>\n",
       "      <td>-</td>\n",
       "    </tr>\n",
       "    <tr>\n",
       "      <th>3</th>\n",
       "      <td>Goodby, Silverstein &amp; Partners</td>\n",
       "      <td>-</td>\n",
       "      <td>Charles Schwab</td>\n",
       "      <td>-</td>\n",
       "      <td>-</td>\n",
       "      <td>-</td>\n",
       "    </tr>\n",
       "    <tr>\n",
       "      <th>4</th>\n",
       "      <td>Landor Associates</td>\n",
       "      <td>-</td>\n",
       "      <td>First Republic Bank</td>\n",
       "      <td>-</td>\n",
       "      <td>-</td>\n",
       "      <td>-</td>\n",
       "    </tr>\n",
       "    <tr>\n",
       "      <th>5</th>\n",
       "      <td>Mullen</td>\n",
       "      <td>-</td>\n",
       "      <td>UnionBanCal Corporation</td>\n",
       "      <td>-</td>\n",
       "      <td>-</td>\n",
       "      <td>-</td>\n",
       "    </tr>\n",
       "  </tbody>\n",
       "</table>\n",
       "</div>"
      ],
      "text/plain": [
       "                      Advertising         Automotive  \\\n",
       "0                       140 Proof           Traction   \n",
       "1                            AKQA  Cruise Automation   \n",
       "2                  Duncan/Channon                  -   \n",
       "3  Goodby, Silverstein & Partners                  -   \n",
       "4               Landor Associates                  -   \n",
       "5                          Mullen                  -   \n",
       "\n",
       "                         Banks   Beverages (alcoholic)  \\\n",
       "0               Otto (company)             Wells Fargo   \n",
       "1           Bank of the Orient  Anchor Brewing Company   \n",
       "2  Bank of the West (BancWest)            SKYY Spirits   \n",
       "3               Charles Schwab                       -   \n",
       "4          First Republic Bank                       -   \n",
       "5      UnionBanCal Corporation                       -   \n",
       "\n",
       "   Beverages (non-alcoholic)                Broadcasting and cable TV  \n",
       "0  Speakeasy Ales and Lagers               Adina World Beat Beverages  \n",
       "1                          -  Northern California Public Broadcasting  \n",
       "2                          -                                        -  \n",
       "3                          -                                        -  \n",
       "4                          -                                        -  \n",
       "5                          -                                        -  "
      ]
     },
     "execution_count": 14,
     "metadata": {},
     "output_type": "execute_result"
    }
   ],
   "source": [
    "\n",
    "companies_in_SF = pd.DataFrame(scrap())\n",
    "companies_in_SF"
   ]
  }
 ],
 "metadata": {
  "kernelspec": {
   "display_name": "Python 3",
   "language": "python",
   "name": "python3"
  },
  "language_info": {
   "codemirror_mode": {
    "name": "ipython",
    "version": 3
   },
   "file_extension": ".py",
   "mimetype": "text/x-python",
   "name": "python",
   "nbconvert_exporter": "python",
   "pygments_lexer": "ipython3",
   "version": "3.8.2"
  }
 },
 "nbformat": 4,
 "nbformat_minor": 4
}
